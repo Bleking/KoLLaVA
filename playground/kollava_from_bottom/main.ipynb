{
 "cells": [
  {
   "attachments": {},
   "cell_type": "markdown",
   "metadata": {},
   "source": [
    "# KoLLaVA Model from Bottom\n",
    "KoVicuna 모델 가중치를 LLaVA에 적용하는 예제이다."
   ]
  },
  {
   "attachments": {},
   "cell_type": "markdown",
   "metadata": {},
   "source": [
    "## 0. Requirements"
   ]
  },
  {
   "cell_type": "code",
   "execution_count": null,
   "metadata": {
    "vscode": {
     "languageId": "shellscript"
    }
   },
   "outputs": [],
   "source": [
    "## Shell\n",
    "pip install torch\n",
    "pip install transformers\n",
    "pip install fschat"
   ]
  },
  {
   "attachments": {},
   "cell_type": "markdown",
   "metadata": {},
   "source": [
    "## 1. KoVicuna 모델 적용하기"
   ]
  },
  {
   "attachments": {},
   "cell_type": "markdown",
   "metadata": {},
   "source": [
    "### 1.1. LLaVA 레포 다운로드 및 함수 정의"
   ]
  },
  {
   "cell_type": "code",
   "execution_count": null,
   "metadata": {
    "vscode": {
     "languageId": "shellscript"
    }
   },
   "outputs": [],
   "source": [
    "## Shell\n",
    "git clone https://github.com/haotian-liu/LLaVA.git"
   ]
  },
  {
   "cell_type": "code",
   "execution_count": null,
   "metadata": {},
   "outputs": [],
   "source": [
    "## KoVicuna weight와 tokenizer를 적용하는 함수\n",
    "\n",
    "import torch\n",
    "from tqdm import tqdm\n",
    "from transformers import AutoTokenizer, AutoModelForCausalLM\n",
    "from LLaVA.llava.model.llava import LlavaLlamaForCausalLM\n",
    "\n",
    "def apply_delta(base_model_path, tokenizer_path, target_model_path, delta_path):\n",
    "    print(\"Loading base model\")\n",
    "    base = AutoModelForCausalLM.from_pretrained(\n",
    "        base_model_path, torch_dtype=torch.float16, low_cpu_mem_usage=True)\n",
    "\n",
    "    print(\"Loading delta\")\n",
    "    delta = LlavaLlamaForCausalLM.from_pretrained(delta_path, torch_dtype=torch.float16, low_cpu_mem_usage=True)\n",
    "    delta_tokenizer = AutoTokenizer.from_pretrained(tokenizer_path)\n",
    "\n",
    "    print(\"Applying delta\")\n",
    "    for name, param in tqdm(delta.state_dict().items(), desc=\"Applying delta\"):\n",
    "        if name not in base.state_dict():\n",
    "            assert name in ['model.mm_projector.weight', 'model.mm_projector.bias'], f'{name} not in base model'\n",
    "            continue\n",
    "        if param.data.shape == base.state_dict()[name].shape:\n",
    "            param.data += base.state_dict()[name]\n",
    "        else:\n",
    "            assert name in ['model.embed_tokens.weight', 'lm_head.weight'], \\\n",
    "                f'{name} dimension mismatch: {param.data.shape} vs {base.state_dict()[name].shape}'\n",
    "            bparam = base.state_dict()[name]\n",
    "            param.data[:bparam.shape[0], :bparam.shape[1]] += bparam\n",
    "\n",
    "    print(\"Saving target model\")\n",
    "    delta.save_pretrained(target_model_path)\n",
    "    delta_tokenizer.save_pretrained(target_model_path)\n"
   ]
  },
  {
   "attachments": {},
   "cell_type": "markdown",
   "metadata": {},
   "source": [
    "### 1.2 Apply delta\n",
    "base_model_path와 tokenizer_path의 경우 LLM 모델 (KoVicuna)로 입력한다. target_model_path의 경우 delta를 적용한 모델을 저장할 위치이다. delta_path는 LLaVA 모델을 입력한다."
   ]
  },
  {
   "cell_type": "code",
   "execution_count": null,
   "metadata": {},
   "outputs": [],
   "source": [
    "apply_delta(\n",
    "    base_model_path=\"junelee/ko_vicuna_7b\",\n",
    "    tokenizer_path=\"junelee/ko_vicuna_7b\",\n",
    "    target_model_path=\"./kollava-7b-v0\",\n",
    "    delta_path=\"liuhaotian/LLaVA-7b-delta-v0\"\n",
    ")"
   ]
  },
  {
   "attachments": {},
   "cell_type": "markdown",
   "metadata": {},
   "source": [
    "## 2. 기존 LLaVA 모델 (LLaMA + CLIP)\n",
    "llamba 모델을 가져와서 LLaVA 모델을 로드하는 예시이다."
   ]
  },
  {
   "attachments": {},
   "cell_type": "markdown",
   "metadata": {},
   "source": [
    "### 2.1. LLaMA weight 다운로드\n",
    "30GB RAM에서 작동할 수 있도록 llamba 7B 모델을 사용한다. \n",
    "Vicuna-7B를 추후에 사용하고 싶은 경우 llama-7b를 이용하여 vicuna weight를 추가하는 방법으로 얻을 수 있다.\n",
    "\n",
    "LLaMA weights:\n",
    "https://huggingface.co/decapoda-research"
   ]
  },
  {
   "cell_type": "code",
   "execution_count": null,
   "metadata": {
    "vscode": {
     "languageId": "shellscript"
    }
   },
   "outputs": [],
   "source": [
    "## Shell\n",
    "git lfs install\n",
    "git clone https://huggingface.co/decapoda-research/llama-7b-hf"
   ]
  },
  {
   "attachments": {},
   "cell_type": "markdown",
   "metadata": {},
   "source": [
    "### 2.2. tokenizer_config.json 수정\n",
    "다운받은 LLaMA의 경우 tokenizer_config.json을 수정해야 정상적으로 사용할 수 있다.\n",
    "\n",
    "tokenizer_config.json 중 다음과 같이 수정하면 된다.\n",
    "\n",
    "`\"tokenizer_class\": \"LLaMATokenizer\"` -> `\"tokenizer_class\": \"LlamaTokenizer\"`"
   ]
  },
  {
   "cell_type": "code",
   "execution_count": null,
   "metadata": {},
   "outputs": [],
   "source": [
    "## 정상적으로 tokenizer와 model이 로드되는지 확인\n",
    "from transformers import AutoTokenizer, AutoModelForCausalLM\n",
    "\n",
    "tokenizer = AutoTokenizer.from_pretrained(\"./llama-7b-hf\")\n",
    "model = AutoModelForCausalLM.from_pretrained(\"./llama-7b-hf\")"
   ]
  },
  {
   "attachments": {},
   "cell_type": "markdown",
   "metadata": {},
   "source": [
    "### 2.3. LLaVA Apply Delta"
   ]
  },
  {
   "cell_type": "code",
   "execution_count": null,
   "metadata": {},
   "outputs": [],
   "source": [
    "apply_delta(\n",
    "    base_model_path=\"./llama-7b-hf\",\n",
    "    tokenizer_path=\"liuhaotian/LLaVA-7b-delta-v0\",\n",
    "    target_model_path=\"./llava-7b-v0\",\n",
    "    delta_path=\"liuhaotian/LLaVA-7b-delta-v0\"\n",
    ")"
   ]
  }
 ],
 "metadata": {
  "language_info": {
   "name": "python"
  },
  "orig_nbformat": 4
 },
 "nbformat": 4,
 "nbformat_minor": 2
}
